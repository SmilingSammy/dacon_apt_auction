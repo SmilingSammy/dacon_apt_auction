{
 "cells": [
  {
   "cell_type": "markdown",
   "metadata": {},
   "source": [
    "[데이터 설명]\n",
    "\n",
    "\n",
    "\n",
    "한국의 서울과 부산 지역 약 2,700여개 최근 2년간 아파트 경매물의 등기부, 임차, 감정가, 유찰 횟수, 낙찰가 등의 정보가 제공됩니다. 아파트 낙찰가를 예측해야 합니다. \n",
    "\n",
    "* 국토교통부 실거래가공개시스템(http://rt.molit.go.kr) 등 법적인 제약이 없는 외부 데이터(공공 데이터) 사용이 가능합니다.\n",
    "\n",
    "\n",
    "\n",
    "[Files]\n",
    "\n",
    "1. Auction_master_train.csv – 서울/부산 지역의 낙찰가를 포함하여 경매 물건 아파트의 위치, 감정가, 경매 개시/종결일 등의 기본 정보(*최근2년)\n",
    "\n",
    "2. Auction_master_test.csv – 경매 낙찰가를 제외하고 train.csv와 동일 \n",
    "\n",
    "3. Auction_submission.csv – 예측한 낙찰가를 기입하여 제출\n",
    "\n",
    "4. Auctiuon_regist.csv – 아파트에 대한 등기 정보\n",
    "\n",
    "    *개별 경매: 1개의 사건 번호에 여러 물건으로 경매 진행될 경우\n",
    "\n",
    "    *과다등기: 등기명의인 수가 100인(말소등기포함)을 초과하는 경우\n",
    "\n",
    "    *개별 경매 중 다음과 같은 사항이 발생 시, 등기 정보가 누락될 수 있습니다.\n",
    "\n",
    "         a. 모든 물건의 등기부등본이 동일한 경우(1개만 발급받은 경우)\n",
    "\n",
    "         b. 과다등기로 인한 등기부등본 발급이 어려운 경우 (예: 등기부등본에 채권자, 소유주 등 등재인이 너무 많아 등기부등본 발급이 안되는 경우)\n",
    "         \n",
    "\n",
    "5. Auctiuon_result.csv – 경매일자, 감정가, 최저매각가격, 경매 결과 데이터.\n",
    "\n",
    "6. Auctiuon_rent.csv – 해당 아파트에 임차인이 있는 경우, 전입/점유 여부, 보증금, 월세 등의 데이터.\n",
    "\n",
    "[경매 용어(아래url을 참조하세요)]\n",
    "\n",
    "https://www.courtauction.go.kr/RetrieveAucTermInq.laf\n",
    "\n"
   ]
  },
  {
   "cell_type": "code",
   "execution_count": 1,
   "metadata": {},
   "outputs": [],
   "source": [
    "import pandas as pd"
   ]
  },
  {
   "cell_type": "code",
   "execution_count": 2,
   "metadata": {},
   "outputs": [],
   "source": [
    "dir_path = '/Users/hsyang/Documents/Data/dacon/17801_auction_price_data/Auction_master_kr/'"
   ]
  },
  {
   "cell_type": "code",
   "execution_count": 3,
   "metadata": {},
   "outputs": [],
   "source": [
    "master_train_df = pd.read_csv(dir_path + 'Auction_master_train.csv')\n",
    "master_test_df = pd.read_csv(dir_path + 'Auction_master_test.csv')\n",
    "regist_df = pd.read_csv(dir_path + 'Auction_regist.csv')\n",
    "rent_df = pd.read_csv(dir_path + 'Auction_rent.csv')\n",
    "result_df = pd.read_csv(dir_path + 'Auction_result.csv')"
   ]
  },
  {
   "cell_type": "code",
   "execution_count": 4,
   "metadata": {},
   "outputs": [
    {
     "data": {
      "text/html": [
       "<div>\n",
       "<style scoped>\n",
       "    .dataframe tbody tr th:only-of-type {\n",
       "        vertical-align: middle;\n",
       "    }\n",
       "\n",
       "    .dataframe tbody tr th {\n",
       "        vertical-align: top;\n",
       "    }\n",
       "\n",
       "    .dataframe thead th {\n",
       "        text-align: right;\n",
       "    }\n",
       "</style>\n",
       "<table border=\"1\" class=\"dataframe\">\n",
       "  <thead>\n",
       "    <tr style=\"text-align: right;\">\n",
       "      <th></th>\n",
       "      <th>Auction_key</th>\n",
       "      <th>Auction_seq</th>\n",
       "      <th>Regist_type</th>\n",
       "      <th>Regist_class</th>\n",
       "      <th>Regist_date</th>\n",
       "      <th>Creditor</th>\n",
       "      <th>Regist_price</th>\n",
       "    </tr>\n",
       "  </thead>\n",
       "  <tbody>\n",
       "    <tr>\n",
       "      <th>0</th>\n",
       "      <td>1</td>\n",
       "      <td>10001</td>\n",
       "      <td>집합건물등기</td>\n",
       "      <td>소유이전</td>\n",
       "      <td>20050715</td>\n",
       "      <td>Private</td>\n",
       "      <td>0</td>\n",
       "    </tr>\n",
       "    <tr>\n",
       "      <th>1</th>\n",
       "      <td>1</td>\n",
       "      <td>10002</td>\n",
       "      <td>집합건물등기</td>\n",
       "      <td>가압</td>\n",
       "      <td>20050914</td>\n",
       "      <td>푸른이상호저축은행</td>\n",
       "      <td>860547945</td>\n",
       "    </tr>\n",
       "  </tbody>\n",
       "</table>\n",
       "</div>"
      ],
      "text/plain": [
       "   Auction_key  Auction_seq Regist_type Regist_class  Regist_date   Creditor  \\\n",
       "0            1        10001      집합건물등기         소유이전     20050715    Private   \n",
       "1            1        10002      집합건물등기       가압         20050914  푸른이상호저축은행   \n",
       "\n",
       "   Regist_price  \n",
       "0             0  \n",
       "1     860547945  "
      ]
     },
     "execution_count": 4,
     "metadata": {},
     "output_type": "execute_result"
    }
   ],
   "source": [
    "regist_df.head(2)"
   ]
  },
  {
   "cell_type": "code",
   "execution_count": 5,
   "metadata": {},
   "outputs": [
    {
     "data": {
      "text/html": [
       "<div>\n",
       "<style scoped>\n",
       "    .dataframe tbody tr th:only-of-type {\n",
       "        vertical-align: middle;\n",
       "    }\n",
       "\n",
       "    .dataframe tbody tr th {\n",
       "        vertical-align: top;\n",
       "    }\n",
       "\n",
       "    .dataframe thead th {\n",
       "        text-align: right;\n",
       "    }\n",
       "</style>\n",
       "<table border=\"1\" class=\"dataframe\">\n",
       "  <thead>\n",
       "    <tr style=\"text-align: right;\">\n",
       "      <th></th>\n",
       "      <th>Auction_key</th>\n",
       "      <th>Auction_seq</th>\n",
       "      <th>Auction_date</th>\n",
       "      <th>Appraisal_price</th>\n",
       "      <th>Minimum_sales_price</th>\n",
       "      <th>Auction_results</th>\n",
       "    </tr>\n",
       "  </thead>\n",
       "  <tbody>\n",
       "    <tr>\n",
       "      <th>0</th>\n",
       "      <td>1</td>\n",
       "      <td>1</td>\n",
       "      <td>2011-06-21 00:00:00</td>\n",
       "      <td>313000000</td>\n",
       "      <td>313000000</td>\n",
       "      <td>변경</td>\n",
       "    </tr>\n",
       "    <tr>\n",
       "      <th>1</th>\n",
       "      <td>1</td>\n",
       "      <td>2</td>\n",
       "      <td>2011-12-13 00:00:00</td>\n",
       "      <td>313000000</td>\n",
       "      <td>313000000</td>\n",
       "      <td>변경</td>\n",
       "    </tr>\n",
       "  </tbody>\n",
       "</table>\n",
       "</div>"
      ],
      "text/plain": [
       "   Auction_key  Auction_seq         Auction_date  Appraisal_price  \\\n",
       "0            1            1  2011-06-21 00:00:00        313000000   \n",
       "1            1            2  2011-12-13 00:00:00        313000000   \n",
       "\n",
       "   Minimum_sales_price Auction_results  \n",
       "0            313000000              변경  \n",
       "1            313000000              변경  "
      ]
     },
     "execution_count": 5,
     "metadata": {},
     "output_type": "execute_result"
    }
   ],
   "source": [
    "result_df.head(2)"
   ]
  },
  {
   "cell_type": "code",
   "execution_count": 6,
   "metadata": {},
   "outputs": [
    {
     "data": {
      "text/html": [
       "<div>\n",
       "<style scoped>\n",
       "    .dataframe tbody tr th:only-of-type {\n",
       "        vertical-align: middle;\n",
       "    }\n",
       "\n",
       "    .dataframe tbody tr th {\n",
       "        vertical-align: top;\n",
       "    }\n",
       "\n",
       "    .dataframe thead th {\n",
       "        text-align: right;\n",
       "    }\n",
       "</style>\n",
       "<table border=\"1\" class=\"dataframe\">\n",
       "  <thead>\n",
       "    <tr style=\"text-align: right;\">\n",
       "      <th></th>\n",
       "      <th>Auctiuon_key</th>\n",
       "      <th>Rent_class</th>\n",
       "      <th>Purpose_use</th>\n",
       "      <th>Occupied_part</th>\n",
       "      <th>Rent_date</th>\n",
       "      <th>Rent_deposit</th>\n",
       "      <th>Rent_monthly_price</th>\n",
       "      <th>Specific</th>\n",
       "    </tr>\n",
       "  </thead>\n",
       "  <tbody>\n",
       "    <tr>\n",
       "      <th>0</th>\n",
       "      <td>1</td>\n",
       "      <td>전입</td>\n",
       "      <td>주거</td>\n",
       "      <td>201호전부</td>\n",
       "      <td>2007-09-14 00:00:00</td>\n",
       "      <td>53000000</td>\n",
       "      <td>250000</td>\n",
       "      <td>점유: 2007.09.14-\\r\\n조사서상:5300만</td>\n",
       "    </tr>\n",
       "    <tr>\n",
       "      <th>1</th>\n",
       "      <td>2</td>\n",
       "      <td>전입</td>\n",
       "      <td>주거</td>\n",
       "      <td>방3</td>\n",
       "      <td>2008-06-27 00:00:00</td>\n",
       "      <td>60000000</td>\n",
       "      <td>0</td>\n",
       "      <td>점유: 2005.09.12-</td>\n",
       "    </tr>\n",
       "  </tbody>\n",
       "</table>\n",
       "</div>"
      ],
      "text/plain": [
       "   Auctiuon_key Rent_class Purpose_use Occupied_part            Rent_date  \\\n",
       "0             1     전입              주거        201호전부  2007-09-14 00:00:00   \n",
       "1             2     전입              주거            방3  2008-06-27 00:00:00   \n",
       "\n",
       "   Rent_deposit  Rent_monthly_price                       Specific  \n",
       "0      53000000              250000  점유: 2007.09.14-\\r\\n조사서상:5300만  \n",
       "1      60000000                   0                점유: 2005.09.12-  "
      ]
     },
     "execution_count": 6,
     "metadata": {},
     "output_type": "execute_result"
    }
   ],
   "source": [
    "rent_df.head(2)"
   ]
  },
  {
   "cell_type": "code",
   "execution_count": 7,
   "metadata": {},
   "outputs": [
    {
     "data": {
      "text/html": [
       "<div>\n",
       "<style scoped>\n",
       "    .dataframe tbody tr th:only-of-type {\n",
       "        vertical-align: middle;\n",
       "    }\n",
       "\n",
       "    .dataframe tbody tr th {\n",
       "        vertical-align: top;\n",
       "    }\n",
       "\n",
       "    .dataframe thead th {\n",
       "        text-align: right;\n",
       "    }\n",
       "</style>\n",
       "<table border=\"1\" class=\"dataframe\">\n",
       "  <thead>\n",
       "    <tr style=\"text-align: right;\">\n",
       "      <th></th>\n",
       "      <th>Auction_key</th>\n",
       "      <th>Auction_class</th>\n",
       "      <th>Bid_class</th>\n",
       "      <th>Claim_price</th>\n",
       "      <th>Appraisal_company</th>\n",
       "      <th>Appraisal_date</th>\n",
       "      <th>Auction_count</th>\n",
       "      <th>Auction_miscarriage_count</th>\n",
       "      <th>Total_land_gross_area</th>\n",
       "      <th>Total_land_real_area</th>\n",
       "      <th>...</th>\n",
       "      <th>Specific</th>\n",
       "      <th>Share_auction_YorN</th>\n",
       "      <th>road_name</th>\n",
       "      <th>road_bunji1</th>\n",
       "      <th>road_bunji2</th>\n",
       "      <th>Close_date</th>\n",
       "      <th>Close_result</th>\n",
       "      <th>point.y</th>\n",
       "      <th>point.x</th>\n",
       "      <th>Hammer_price</th>\n",
       "    </tr>\n",
       "  </thead>\n",
       "  <tbody>\n",
       "    <tr>\n",
       "      <th>0</th>\n",
       "      <td>2687</td>\n",
       "      <td>임의</td>\n",
       "      <td>개별</td>\n",
       "      <td>1766037301</td>\n",
       "      <td>정명감정</td>\n",
       "      <td>2017-07-26 00:00:00</td>\n",
       "      <td>2</td>\n",
       "      <td>1</td>\n",
       "      <td>12592.0</td>\n",
       "      <td>37.35</td>\n",
       "      <td>...</td>\n",
       "      <td>NaN</td>\n",
       "      <td>N</td>\n",
       "      <td>해운대해변로</td>\n",
       "      <td>30.0</td>\n",
       "      <td>NaN</td>\n",
       "      <td>2018-06-14 00:00:00</td>\n",
       "      <td>배당</td>\n",
       "      <td>35.162717</td>\n",
       "      <td>129.137048</td>\n",
       "      <td>760000000</td>\n",
       "    </tr>\n",
       "    <tr>\n",
       "      <th>1</th>\n",
       "      <td>2577</td>\n",
       "      <td>임의</td>\n",
       "      <td>일반</td>\n",
       "      <td>152946867</td>\n",
       "      <td>희감정</td>\n",
       "      <td>2016-09-12 00:00:00</td>\n",
       "      <td>2</td>\n",
       "      <td>1</td>\n",
       "      <td>42478.1</td>\n",
       "      <td>18.76</td>\n",
       "      <td>...</td>\n",
       "      <td>NaN</td>\n",
       "      <td>N</td>\n",
       "      <td>마린시티2로</td>\n",
       "      <td>33.0</td>\n",
       "      <td>NaN</td>\n",
       "      <td>2017-03-30 00:00:00</td>\n",
       "      <td>배당</td>\n",
       "      <td>35.156633</td>\n",
       "      <td>129.145068</td>\n",
       "      <td>971889999</td>\n",
       "    </tr>\n",
       "  </tbody>\n",
       "</table>\n",
       "<p>2 rows × 41 columns</p>\n",
       "</div>"
      ],
      "text/plain": [
       "   Auction_key Auction_class Bid_class  Claim_price Appraisal_company  \\\n",
       "0         2687            임의        개별   1766037301              정명감정   \n",
       "1         2577            임의        일반    152946867               희감정   \n",
       "\n",
       "        Appraisal_date  Auction_count  Auction_miscarriage_count  \\\n",
       "0  2017-07-26 00:00:00              2                          1   \n",
       "1  2016-09-12 00:00:00              2                          1   \n",
       "\n",
       "   Total_land_gross_area  Total_land_real_area  ...  Specific  \\\n",
       "0                12592.0                 37.35  ...       NaN   \n",
       "1                42478.1                 18.76  ...       NaN   \n",
       "\n",
       "   Share_auction_YorN  road_name  road_bunji1  road_bunji2  \\\n",
       "0                   N     해운대해변로         30.0          NaN   \n",
       "1                   N     마린시티2로         33.0          NaN   \n",
       "\n",
       "            Close_date Close_result    point.y     point.x Hammer_price  \n",
       "0  2018-06-14 00:00:00           배당  35.162717  129.137048    760000000  \n",
       "1  2017-03-30 00:00:00           배당  35.156633  129.145068    971889999  \n",
       "\n",
       "[2 rows x 41 columns]"
      ]
     },
     "execution_count": 7,
     "metadata": {},
     "output_type": "execute_result"
    }
   ],
   "source": [
    "master_train_df.head(2)"
   ]
  },
  {
   "cell_type": "code",
   "execution_count": 8,
   "metadata": {},
   "outputs": [
    {
     "data": {
      "text/plain": [
       "(20702, 8528, 1556, 1933, 829)"
      ]
     },
     "execution_count": 8,
     "metadata": {},
     "output_type": "execute_result"
    }
   ],
   "source": [
    "len(regist_df), len(result_df), len(rent_df), len(master_train_df), len(master_test_df)"
   ]
  },
  {
   "cell_type": "code",
   "execution_count": null,
   "metadata": {},
   "outputs": [],
   "source": []
  },
  {
   "cell_type": "code",
   "execution_count": null,
   "metadata": {},
   "outputs": [],
   "source": []
  },
  {
   "cell_type": "code",
   "execution_count": null,
   "metadata": {},
   "outputs": [],
   "source": []
  },
  {
   "cell_type": "code",
   "execution_count": null,
   "metadata": {},
   "outputs": [],
   "source": []
  }
 ],
 "metadata": {
  "kernelspec": {
   "display_name": "Python 3",
   "language": "python",
   "name": "python3"
  },
  "language_info": {
   "codemirror_mode": {
    "name": "ipython",
    "version": 3
   },
   "file_extension": ".py",
   "mimetype": "text/x-python",
   "name": "python",
   "nbconvert_exporter": "python",
   "pygments_lexer": "ipython3",
   "version": "3.7.3"
  }
 },
 "nbformat": 4,
 "nbformat_minor": 4
}
